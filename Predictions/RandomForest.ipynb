{
  "nbformat": 4,
  "nbformat_minor": 0,
  "metadata": {
    "colab": {
      "provenance": []
    },
    "kernelspec": {
      "name": "python3",
      "display_name": "Python 3"
    },
    "language_info": {
      "name": "python"
    }
  },
  "cells": [
    {
      "cell_type": "code",
      "source": [
        "%%capture\n",
        "!pip install sentencepiece\n",
        "!pip install transformers"
      ],
      "metadata": {
        "id": "Ml3c4baji0y8"
      },
      "execution_count": null,
      "outputs": []
    },
    {
      "cell_type": "code",
      "source": [
        "#DO ALL NECESSARY IMPORTS\n",
        "from google.colab import files\n",
        "import pandas as pd\n",
        "import numpy as np\n",
        "from sklearn.preprocessing import LabelEncoder, OneHotEncoder\n",
        "import numpy as np\n",
        "import spacy\n",
        "from sklearn.feature_extraction.text import TfidfVectorizer\n",
        "from transformers import CamembertConfig, CamembertModel, CamembertTokenizer, CamembertTokenizer, CamembertForSequenceClassification\n",
        "from transformers import BertModel, BertTokenizer\n",
        "import torch\n"
      ],
      "metadata": {
        "id": "Vtl4E4SMiuo-"
      },
      "execution_count": null,
      "outputs": []
    },
    {
      "cell_type": "code",
      "source": [
        "#use bert embedding but using camembert as model\n",
        "model_name = 'camembert-base'\n",
        "camembert_model = CamembertModel.from_pretrained(model_name)\n",
        "tokenizer = CamembertTokenizer.from_pretrained(model_name, revision=\"main\", sentencepiece_model=\"/usr/local/lib/python3.10/dist-packages\")\n"
      ],
      "metadata": {
        "id": "cQLpHmusipwx",
        "colab": {
          "base_uri": "https://localhost:8080/"
        },
        "outputId": "7b02b7c9-5434-4dbe-818c-81816b0cc21a"
      },
      "execution_count": null,
      "outputs": [
        {
          "output_type": "stream",
          "name": "stderr",
          "text": [
            "Special tokens have been added in the vocabulary, make sure the associated word embeddings are fine-tuned or trained.\n"
          ]
        }
      ]
    },
    {
      "cell_type": "code",
      "execution_count": null,
      "metadata": {
        "id": "NEl_LToJiGSA"
      },
      "outputs": [],
      "source": [
        "\n",
        "def get_bert_embedding(sentence, model, tokenizer):\n",
        "    inputs = tokenizer(sentence, return_tensors=\"pt\", truncation=True, padding=True)\n",
        "    with torch.no_grad():\n",
        "        outputs = model(**inputs)\n",
        "    embeddings = outputs.last_hidden_state.mean(dim=1).numpy()\n",
        "    return embeddings\n",
        "\n",
        "def max_pool_embeddings(embeddings):\n",
        "    return np.max(embeddings, axis=0)\n",
        "\n",
        "def final_camembert(df):\n",
        "    df['camembert_embedding'] =  df['sentence'].apply(lambda x: get_bert_embedding(x, camembert_model, tokenizer))\n",
        "    df['cam_pooled_embedding'] = df['camembert_embedding'].apply(lambda x: max_pool_embeddings(x))\n",
        "    return df"
      ]
    },
    {
      "cell_type": "code",
      "source": [
        "import pandas as pd\n",
        "\n",
        "test = pd.read_csv('https://github.com/eperroud/DataScienceProject/raw/3686315a1ffa6d20da666d2c373ac1569c22c9d1/data/final_test.csv')\n",
        "training = pd.read_csv('https://github.com/eperroud/DataScienceProject/raw/3686315a1ffa6d20da666d2c373ac1569c22c9d1/data/final_training.csv')"
      ],
      "metadata": {
        "id": "ayM5El_6iMbd"
      },
      "execution_count": null,
      "outputs": []
    },
    {
      "cell_type": "code",
      "source": [
        "training = final_camembert(training)"
      ],
      "metadata": {
        "id": "ZzbVGvF0iOjr"
      },
      "execution_count": null,
      "outputs": []
    },
    {
      "cell_type": "code",
      "source": [
        "test = final_camembert(test)"
      ],
      "metadata": {
        "id": "5E1vrqdCiRjc"
      },
      "execution_count": null,
      "outputs": []
    },
    {
      "cell_type": "code",
      "source": [
        "test.head()"
      ],
      "metadata": {
        "id": "XvsFwrYpwS-n",
        "colab": {
          "base_uri": "https://localhost:8080/",
          "height": 462
        },
        "outputId": "5038b3d9-4fd8-4e8e-9959-c30fbcca7fdc"
      },
      "execution_count": null,
      "outputs": [
        {
          "output_type": "execute_result",
          "data": {
            "text/plain": [
              "   id                                           sentence  \\\n",
              "0   0  Nous dûmes nous excuser des propos que nous eû...   \n",
              "1   1  Vous ne pouvez pas savoir le plaisir que j'ai ...   \n",
              "2   2  Et, paradoxalement, boire froid n'est pas la b...   \n",
              "3   3  Ce n'est pas étonnant, car c'est une saison my...   \n",
              "4   4  Le corps de Golo lui-même, d'une essence aussi...   \n",
              "\n",
              "                                         sentence_sp  \\\n",
              "0  Nous dûmes nous excuser des propos que nous eû...   \n",
              "1  Vous ne pouvez pas savoir le plaisir que j'ai ...   \n",
              "2  Et, paradoxalement, boire froid n'est pas la b...   \n",
              "3  Ce n'est pas étonnant, car c'est une saison my...   \n",
              "4  Le corps de Golo lui-même, d'une essence aussi...   \n",
              "\n",
              "                                              tokens  \\\n",
              "0  ['Nous', 'dûmes', 'nous', 'excuser', 'des', 'p...   \n",
              "1  ['Vous', 'ne', 'pouvez', 'pas', 'savoir', 'le'...   \n",
              "2  ['Et', ',', 'paradoxalement', ',', 'boire', 'f...   \n",
              "3  ['Ce', \"n'\", 'est', 'pas', 'étonnant', ',', 'c...   \n",
              "4  ['Le', 'corps', 'de', 'Golo', 'lui-même', ',',...   \n",
              "\n",
              "                                      tokens_no_stop  token_count_no_stop  \\\n",
              "0  ['dûmes', 'excuser', 'propos', 'eûmes', 'prono...                    5   \n",
              "1  ['pouvez', 'savoir', 'plaisir', 'recevoir', 'b...                    7   \n",
              "2  [',', 'paradoxalement', ',', 'boire', 'froid',...                    8   \n",
              "3         ['étonnant', ',', 'saison', 'mystérieuse']                    4   \n",
              "4  ['corps', 'Golo', ',', 'essence', 'surnaturell...                   40   \n",
              "\n",
              "   token_count  nb_verbs  nb_nouns  nb_adj  nb_adv  \\\n",
              "0           10         3         1       0       0   \n",
              "1           16         4         1       2       2   \n",
              "2           13         1         1       2       3   \n",
              "3           12         0         1       2       2   \n",
              "4           83         9        13       5       8   \n",
              "\n",
              "                                               words  tfidf_score_unigram  \\\n",
              "0  ['nous', 'dûmes', 'nous', 'excuser', 'des', 'p...             3.192917   \n",
              "1  ['vous', 'ne', 'pouvez', 'pas', 'savoir', 'le'...            12.660056   \n",
              "2  ['et,', 'paradoxalement,', 'boire', 'froid', \"...             8.244312   \n",
              "3  ['ce', \"n'est\", 'pas', 'étonnant,', 'car', \"c'...             1.943283   \n",
              "4  ['le', 'corps', 'de', 'golo', 'lui-même,', \"d'...            15.581025   \n",
              "\n",
              "   tfidf_score_bigram                                camembert_embedding  \\\n",
              "0            2.331769  [[0.047271907, 0.030453198, -0.022989253, 0.10...   \n",
              "1            8.902162  [[-0.0065091653, -0.11096406, -0.0380778, 0.06...   \n",
              "2            5.840872  [[-0.035896078, -0.04058774, 0.08143554, 0.039...   \n",
              "3            1.444063  [[0.034818918, -0.037731417, -0.055650946, 0.0...   \n",
              "4           10.953801  [[0.011139873, 0.057788055, -0.029189765, 0.12...   \n",
              "\n",
              "                                cam_pooled_embedding  \n",
              "0  [0.047271907, 0.030453198, -0.022989253, 0.109...  \n",
              "1  [-0.0065091653, -0.11096406, -0.0380778, 0.065...  \n",
              "2  [-0.035896078, -0.04058774, 0.08143554, 0.0398...  \n",
              "3  [0.034818918, -0.037731417, -0.055650946, 0.08...  \n",
              "4  [0.011139873, 0.057788055, -0.029189765, 0.120...  "
            ],
            "text/html": [
              "\n",
              "  <div id=\"df-9866c9d8-96c9-4e9b-b35b-f91cc3ca44bd\" class=\"colab-df-container\">\n",
              "    <div>\n",
              "<style scoped>\n",
              "    .dataframe tbody tr th:only-of-type {\n",
              "        vertical-align: middle;\n",
              "    }\n",
              "\n",
              "    .dataframe tbody tr th {\n",
              "        vertical-align: top;\n",
              "    }\n",
              "\n",
              "    .dataframe thead th {\n",
              "        text-align: right;\n",
              "    }\n",
              "</style>\n",
              "<table border=\"1\" class=\"dataframe\">\n",
              "  <thead>\n",
              "    <tr style=\"text-align: right;\">\n",
              "      <th></th>\n",
              "      <th>id</th>\n",
              "      <th>sentence</th>\n",
              "      <th>sentence_sp</th>\n",
              "      <th>tokens</th>\n",
              "      <th>tokens_no_stop</th>\n",
              "      <th>token_count_no_stop</th>\n",
              "      <th>token_count</th>\n",
              "      <th>nb_verbs</th>\n",
              "      <th>nb_nouns</th>\n",
              "      <th>nb_adj</th>\n",
              "      <th>nb_adv</th>\n",
              "      <th>words</th>\n",
              "      <th>tfidf_score_unigram</th>\n",
              "      <th>tfidf_score_bigram</th>\n",
              "      <th>camembert_embedding</th>\n",
              "      <th>cam_pooled_embedding</th>\n",
              "    </tr>\n",
              "  </thead>\n",
              "  <tbody>\n",
              "    <tr>\n",
              "      <th>0</th>\n",
              "      <td>0</td>\n",
              "      <td>Nous dûmes nous excuser des propos que nous eû...</td>\n",
              "      <td>Nous dûmes nous excuser des propos que nous eû...</td>\n",
              "      <td>['Nous', 'dûmes', 'nous', 'excuser', 'des', 'p...</td>\n",
              "      <td>['dûmes', 'excuser', 'propos', 'eûmes', 'prono...</td>\n",
              "      <td>5</td>\n",
              "      <td>10</td>\n",
              "      <td>3</td>\n",
              "      <td>1</td>\n",
              "      <td>0</td>\n",
              "      <td>0</td>\n",
              "      <td>['nous', 'dûmes', 'nous', 'excuser', 'des', 'p...</td>\n",
              "      <td>3.192917</td>\n",
              "      <td>2.331769</td>\n",
              "      <td>[[0.047271907, 0.030453198, -0.022989253, 0.10...</td>\n",
              "      <td>[0.047271907, 0.030453198, -0.022989253, 0.109...</td>\n",
              "    </tr>\n",
              "    <tr>\n",
              "      <th>1</th>\n",
              "      <td>1</td>\n",
              "      <td>Vous ne pouvez pas savoir le plaisir que j'ai ...</td>\n",
              "      <td>Vous ne pouvez pas savoir le plaisir que j'ai ...</td>\n",
              "      <td>['Vous', 'ne', 'pouvez', 'pas', 'savoir', 'le'...</td>\n",
              "      <td>['pouvez', 'savoir', 'plaisir', 'recevoir', 'b...</td>\n",
              "      <td>7</td>\n",
              "      <td>16</td>\n",
              "      <td>4</td>\n",
              "      <td>1</td>\n",
              "      <td>2</td>\n",
              "      <td>2</td>\n",
              "      <td>['vous', 'ne', 'pouvez', 'pas', 'savoir', 'le'...</td>\n",
              "      <td>12.660056</td>\n",
              "      <td>8.902162</td>\n",
              "      <td>[[-0.0065091653, -0.11096406, -0.0380778, 0.06...</td>\n",
              "      <td>[-0.0065091653, -0.11096406, -0.0380778, 0.065...</td>\n",
              "    </tr>\n",
              "    <tr>\n",
              "      <th>2</th>\n",
              "      <td>2</td>\n",
              "      <td>Et, paradoxalement, boire froid n'est pas la b...</td>\n",
              "      <td>Et, paradoxalement, boire froid n'est pas la b...</td>\n",
              "      <td>['Et', ',', 'paradoxalement', ',', 'boire', 'f...</td>\n",
              "      <td>[',', 'paradoxalement', ',', 'boire', 'froid',...</td>\n",
              "      <td>8</td>\n",
              "      <td>13</td>\n",
              "      <td>1</td>\n",
              "      <td>1</td>\n",
              "      <td>2</td>\n",
              "      <td>3</td>\n",
              "      <td>['et,', 'paradoxalement,', 'boire', 'froid', \"...</td>\n",
              "      <td>8.244312</td>\n",
              "      <td>5.840872</td>\n",
              "      <td>[[-0.035896078, -0.04058774, 0.08143554, 0.039...</td>\n",
              "      <td>[-0.035896078, -0.04058774, 0.08143554, 0.0398...</td>\n",
              "    </tr>\n",
              "    <tr>\n",
              "      <th>3</th>\n",
              "      <td>3</td>\n",
              "      <td>Ce n'est pas étonnant, car c'est une saison my...</td>\n",
              "      <td>Ce n'est pas étonnant, car c'est une saison my...</td>\n",
              "      <td>['Ce', \"n'\", 'est', 'pas', 'étonnant', ',', 'c...</td>\n",
              "      <td>['étonnant', ',', 'saison', 'mystérieuse']</td>\n",
              "      <td>4</td>\n",
              "      <td>12</td>\n",
              "      <td>0</td>\n",
              "      <td>1</td>\n",
              "      <td>2</td>\n",
              "      <td>2</td>\n",
              "      <td>['ce', \"n'est\", 'pas', 'étonnant,', 'car', \"c'...</td>\n",
              "      <td>1.943283</td>\n",
              "      <td>1.444063</td>\n",
              "      <td>[[0.034818918, -0.037731417, -0.055650946, 0.0...</td>\n",
              "      <td>[0.034818918, -0.037731417, -0.055650946, 0.08...</td>\n",
              "    </tr>\n",
              "    <tr>\n",
              "      <th>4</th>\n",
              "      <td>4</td>\n",
              "      <td>Le corps de Golo lui-même, d'une essence aussi...</td>\n",
              "      <td>Le corps de Golo lui-même, d'une essence aussi...</td>\n",
              "      <td>['Le', 'corps', 'de', 'Golo', 'lui-même', ',',...</td>\n",
              "      <td>['corps', 'Golo', ',', 'essence', 'surnaturell...</td>\n",
              "      <td>40</td>\n",
              "      <td>83</td>\n",
              "      <td>9</td>\n",
              "      <td>13</td>\n",
              "      <td>5</td>\n",
              "      <td>8</td>\n",
              "      <td>['le', 'corps', 'de', 'golo', 'lui-même,', \"d'...</td>\n",
              "      <td>15.581025</td>\n",
              "      <td>10.953801</td>\n",
              "      <td>[[0.011139873, 0.057788055, -0.029189765, 0.12...</td>\n",
              "      <td>[0.011139873, 0.057788055, -0.029189765, 0.120...</td>\n",
              "    </tr>\n",
              "  </tbody>\n",
              "</table>\n",
              "</div>\n",
              "    <div class=\"colab-df-buttons\">\n",
              "\n",
              "  <div class=\"colab-df-container\">\n",
              "    <button class=\"colab-df-convert\" onclick=\"convertToInteractive('df-9866c9d8-96c9-4e9b-b35b-f91cc3ca44bd')\"\n",
              "            title=\"Convert this dataframe to an interactive table.\"\n",
              "            style=\"display:none;\">\n",
              "\n",
              "  <svg xmlns=\"http://www.w3.org/2000/svg\" height=\"24px\" viewBox=\"0 -960 960 960\">\n",
              "    <path d=\"M120-120v-720h720v720H120Zm60-500h600v-160H180v160Zm220 220h160v-160H400v160Zm0 220h160v-160H400v160ZM180-400h160v-160H180v160Zm440 0h160v-160H620v160ZM180-180h160v-160H180v160Zm440 0h160v-160H620v160Z\"/>\n",
              "  </svg>\n",
              "    </button>\n",
              "\n",
              "  <style>\n",
              "    .colab-df-container {\n",
              "      display:flex;\n",
              "      gap: 12px;\n",
              "    }\n",
              "\n",
              "    .colab-df-convert {\n",
              "      background-color: #E8F0FE;\n",
              "      border: none;\n",
              "      border-radius: 50%;\n",
              "      cursor: pointer;\n",
              "      display: none;\n",
              "      fill: #1967D2;\n",
              "      height: 32px;\n",
              "      padding: 0 0 0 0;\n",
              "      width: 32px;\n",
              "    }\n",
              "\n",
              "    .colab-df-convert:hover {\n",
              "      background-color: #E2EBFA;\n",
              "      box-shadow: 0px 1px 2px rgba(60, 64, 67, 0.3), 0px 1px 3px 1px rgba(60, 64, 67, 0.15);\n",
              "      fill: #174EA6;\n",
              "    }\n",
              "\n",
              "    .colab-df-buttons div {\n",
              "      margin-bottom: 4px;\n",
              "    }\n",
              "\n",
              "    [theme=dark] .colab-df-convert {\n",
              "      background-color: #3B4455;\n",
              "      fill: #D2E3FC;\n",
              "    }\n",
              "\n",
              "    [theme=dark] .colab-df-convert:hover {\n",
              "      background-color: #434B5C;\n",
              "      box-shadow: 0px 1px 3px 1px rgba(0, 0, 0, 0.15);\n",
              "      filter: drop-shadow(0px 1px 2px rgba(0, 0, 0, 0.3));\n",
              "      fill: #FFFFFF;\n",
              "    }\n",
              "  </style>\n",
              "\n",
              "    <script>\n",
              "      const buttonEl =\n",
              "        document.querySelector('#df-9866c9d8-96c9-4e9b-b35b-f91cc3ca44bd button.colab-df-convert');\n",
              "      buttonEl.style.display =\n",
              "        google.colab.kernel.accessAllowed ? 'block' : 'none';\n",
              "\n",
              "      async function convertToInteractive(key) {\n",
              "        const element = document.querySelector('#df-9866c9d8-96c9-4e9b-b35b-f91cc3ca44bd');\n",
              "        const dataTable =\n",
              "          await google.colab.kernel.invokeFunction('convertToInteractive',\n",
              "                                                    [key], {});\n",
              "        if (!dataTable) return;\n",
              "\n",
              "        const docLinkHtml = 'Like what you see? Visit the ' +\n",
              "          '<a target=\"_blank\" href=https://colab.research.google.com/notebooks/data_table.ipynb>data table notebook</a>'\n",
              "          + ' to learn more about interactive tables.';\n",
              "        element.innerHTML = '';\n",
              "        dataTable['output_type'] = 'display_data';\n",
              "        await google.colab.output.renderOutput(dataTable, element);\n",
              "        const docLink = document.createElement('div');\n",
              "        docLink.innerHTML = docLinkHtml;\n",
              "        element.appendChild(docLink);\n",
              "      }\n",
              "    </script>\n",
              "  </div>\n",
              "\n",
              "\n",
              "<div id=\"df-475b61c9-db73-47cd-98bd-b451e9ca747e\">\n",
              "  <button class=\"colab-df-quickchart\" onclick=\"quickchart('df-475b61c9-db73-47cd-98bd-b451e9ca747e')\"\n",
              "            title=\"Suggest charts\"\n",
              "            style=\"display:none;\">\n",
              "\n",
              "<svg xmlns=\"http://www.w3.org/2000/svg\" height=\"24px\"viewBox=\"0 0 24 24\"\n",
              "     width=\"24px\">\n",
              "    <g>\n",
              "        <path d=\"M19 3H5c-1.1 0-2 .9-2 2v14c0 1.1.9 2 2 2h14c1.1 0 2-.9 2-2V5c0-1.1-.9-2-2-2zM9 17H7v-7h2v7zm4 0h-2V7h2v10zm4 0h-2v-4h2v4z\"/>\n",
              "    </g>\n",
              "</svg>\n",
              "  </button>\n",
              "\n",
              "<style>\n",
              "  .colab-df-quickchart {\n",
              "      --bg-color: #E8F0FE;\n",
              "      --fill-color: #1967D2;\n",
              "      --hover-bg-color: #E2EBFA;\n",
              "      --hover-fill-color: #174EA6;\n",
              "      --disabled-fill-color: #AAA;\n",
              "      --disabled-bg-color: #DDD;\n",
              "  }\n",
              "\n",
              "  [theme=dark] .colab-df-quickchart {\n",
              "      --bg-color: #3B4455;\n",
              "      --fill-color: #D2E3FC;\n",
              "      --hover-bg-color: #434B5C;\n",
              "      --hover-fill-color: #FFFFFF;\n",
              "      --disabled-bg-color: #3B4455;\n",
              "      --disabled-fill-color: #666;\n",
              "  }\n",
              "\n",
              "  .colab-df-quickchart {\n",
              "    background-color: var(--bg-color);\n",
              "    border: none;\n",
              "    border-radius: 50%;\n",
              "    cursor: pointer;\n",
              "    display: none;\n",
              "    fill: var(--fill-color);\n",
              "    height: 32px;\n",
              "    padding: 0;\n",
              "    width: 32px;\n",
              "  }\n",
              "\n",
              "  .colab-df-quickchart:hover {\n",
              "    background-color: var(--hover-bg-color);\n",
              "    box-shadow: 0 1px 2px rgba(60, 64, 67, 0.3), 0 1px 3px 1px rgba(60, 64, 67, 0.15);\n",
              "    fill: var(--button-hover-fill-color);\n",
              "  }\n",
              "\n",
              "  .colab-df-quickchart-complete:disabled,\n",
              "  .colab-df-quickchart-complete:disabled:hover {\n",
              "    background-color: var(--disabled-bg-color);\n",
              "    fill: var(--disabled-fill-color);\n",
              "    box-shadow: none;\n",
              "  }\n",
              "\n",
              "  .colab-df-spinner {\n",
              "    border: 2px solid var(--fill-color);\n",
              "    border-color: transparent;\n",
              "    border-bottom-color: var(--fill-color);\n",
              "    animation:\n",
              "      spin 1s steps(1) infinite;\n",
              "  }\n",
              "\n",
              "  @keyframes spin {\n",
              "    0% {\n",
              "      border-color: transparent;\n",
              "      border-bottom-color: var(--fill-color);\n",
              "      border-left-color: var(--fill-color);\n",
              "    }\n",
              "    20% {\n",
              "      border-color: transparent;\n",
              "      border-left-color: var(--fill-color);\n",
              "      border-top-color: var(--fill-color);\n",
              "    }\n",
              "    30% {\n",
              "      border-color: transparent;\n",
              "      border-left-color: var(--fill-color);\n",
              "      border-top-color: var(--fill-color);\n",
              "      border-right-color: var(--fill-color);\n",
              "    }\n",
              "    40% {\n",
              "      border-color: transparent;\n",
              "      border-right-color: var(--fill-color);\n",
              "      border-top-color: var(--fill-color);\n",
              "    }\n",
              "    60% {\n",
              "      border-color: transparent;\n",
              "      border-right-color: var(--fill-color);\n",
              "    }\n",
              "    80% {\n",
              "      border-color: transparent;\n",
              "      border-right-color: var(--fill-color);\n",
              "      border-bottom-color: var(--fill-color);\n",
              "    }\n",
              "    90% {\n",
              "      border-color: transparent;\n",
              "      border-bottom-color: var(--fill-color);\n",
              "    }\n",
              "  }\n",
              "</style>\n",
              "\n",
              "  <script>\n",
              "    async function quickchart(key) {\n",
              "      const quickchartButtonEl =\n",
              "        document.querySelector('#' + key + ' button');\n",
              "      quickchartButtonEl.disabled = true;  // To prevent multiple clicks.\n",
              "      quickchartButtonEl.classList.add('colab-df-spinner');\n",
              "      try {\n",
              "        const charts = await google.colab.kernel.invokeFunction(\n",
              "            'suggestCharts', [key], {});\n",
              "      } catch (error) {\n",
              "        console.error('Error during call to suggestCharts:', error);\n",
              "      }\n",
              "      quickchartButtonEl.classList.remove('colab-df-spinner');\n",
              "      quickchartButtonEl.classList.add('colab-df-quickchart-complete');\n",
              "    }\n",
              "    (() => {\n",
              "      let quickchartButtonEl =\n",
              "        document.querySelector('#df-475b61c9-db73-47cd-98bd-b451e9ca747e button');\n",
              "      quickchartButtonEl.style.display =\n",
              "        google.colab.kernel.accessAllowed ? 'block' : 'none';\n",
              "    })();\n",
              "  </script>\n",
              "</div>\n",
              "    </div>\n",
              "  </div>\n"
            ]
          },
          "metadata": {},
          "execution_count": 11
        }
      ]
    },
    {
      "cell_type": "code",
      "source": [
        "pred_features = ['token_count_no_stop', 'tfidf_score_bigram', 'nb_nouns', 'nb_adj', 'nb_verbs']\n",
        "X_cam = pd.DataFrame(training['cam_pooled_embedding'].tolist())\n",
        "X = pd.concat([training[pred_features], X_cam], axis=1)\n",
        "X.columns = X.columns.astype(str)\n",
        "y = training[['encoded_diff']]\n",
        "\n",
        "\n",
        "from sklearn.model_selection import train_test_split\n",
        "X_train, X_test, y_train, y_test = train_test_split(X, y, test_size=0.2, random_state=42, shuffle=True)\n"
      ],
      "metadata": {
        "id": "ZjMizwdaiTve"
      },
      "execution_count": null,
      "outputs": []
    },
    {
      "cell_type": "code",
      "source": [
        "%%capture\n",
        "from sklearn.ensemble import RandomForestClassifier\n",
        "from sklearn.model_selection import GridSearchCV\n",
        "\n",
        "RF = RandomForestClassifier(random_state=42)\n",
        "parameters= {\n",
        "    'n_estimators': [50, 100, 150],\n",
        "    'max_depth': [None, 10, 20, 30],\n",
        "}\n",
        "\n",
        "#perform grid search to find the best parameters\n",
        "grid_search = GridSearchCV(RF, parameters, cv=5, scoring='accuracy')\n",
        "\n",
        "grid_search.fit(X_train, y_train)\n"
      ],
      "metadata": {
        "id": "kGIUf-BMiXEv"
      },
      "execution_count": null,
      "outputs": []
    },
    {
      "cell_type": "code",
      "source": [
        "RF = grid_search.best_estimator_\n"
      ],
      "metadata": {
        "id": "hqpLT2AxeEVy"
      },
      "execution_count": null,
      "outputs": []
    },
    {
      "cell_type": "code",
      "source": [
        "y_pred_RF = RF.predict(X_test)"
      ],
      "metadata": {
        "id": "KRDGHAZQiYV1"
      },
      "execution_count": null,
      "outputs": []
    },
    {
      "cell_type": "code",
      "source": [
        "# Accuracy on the test set\n",
        "print('Accuracy of Random Forest regression classifier on test set: {:.2f}'\n",
        "     .format(RF.score(X_test, y_test)))\n",
        "\n",
        "# Accuracy on the training set\n",
        "print('Accuracy of Random Forest regression classifier on training set: {:.2f}'\n",
        "     .format(RF.score(X_train, y_train)))\n",
        "\n",
        "from sklearn.metrics import precision_score, recall_score, f1_score\n",
        "average_type = 'weighted'\n",
        "\n",
        "precision = precision_score(y_test, y_pred_RF, average=average_type)\n",
        "recall = recall_score(y_test, y_pred_RF, average=average_type)\n",
        "f1 = f1_score(y_test, y_pred_RF, average=average_type)\n",
        "\n",
        "print('The precision is: {:0.3f}'.format(precision))\n",
        "print('The recall is: {:0.3f}'.format(recall))\n",
        "print('The F1 score is: {:0.3f}'.format(f1))"
      ],
      "metadata": {
        "id": "zCECZ-GqiYuz",
        "colab": {
          "base_uri": "https://localhost:8080/"
        },
        "outputId": "946708a5-becb-4ddc-ec35-c4bcb13cae01"
      },
      "execution_count": null,
      "outputs": [
        {
          "output_type": "stream",
          "name": "stdout",
          "text": [
            "Accuracy of Random Forest regression classifier on test set: 0.50\n",
            "Accuracy of Random Forest regression classifier on training set: 1.00\n",
            "The precision is: 0.499\n",
            "The recall is: 0.503\n",
            "The F1 score is: 0.499\n"
          ]
        }
      ]
    },
    {
      "cell_type": "code",
      "source": [
        "X_cam_pred = pd.DataFrame(test['cam_pooled_embedding'].tolist())\n",
        "X_pred = pd.concat([test[pred_features], X_cam_pred], axis=1)\n",
        "X_pred.columns = X_pred.columns.astype(str)\n",
        "test['difficulty encoded'] = RF.predict(X_pred)"
      ],
      "metadata": {
        "id": "p7T_k85xia6G"
      },
      "execution_count": null,
      "outputs": []
    },
    {
      "cell_type": "code",
      "source": [
        "test['difficulty encoded'].head()"
      ],
      "metadata": {
        "colab": {
          "base_uri": "https://localhost:8080/"
        },
        "id": "HhAMd06XbVdL",
        "outputId": "f2c20ede-d6bc-4695-8539-95dc1501464b"
      },
      "execution_count": null,
      "outputs": [
        {
          "output_type": "execute_result",
          "data": {
            "text/plain": [
              "0    5\n",
              "1    2\n",
              "2    2\n",
              "3    1\n",
              "4    5\n",
              "Name: difficulty encoded, dtype: int64"
            ]
          },
          "metadata": {},
          "execution_count": 149
        }
      ]
    },
    {
      "cell_type": "code",
      "source": [
        "#function that cleans and return the final dataset to upload on kaggle\n",
        "def prep_final_pred(df):\n",
        "  number_to_level = {\n",
        "    0: 'A1',\n",
        "    1: 'A2',\n",
        "    2: 'B1',\n",
        "    3: 'B2',\n",
        "    4: 'C1',\n",
        "    5: 'C2'\n",
        "}\n",
        "\n",
        "  df['difficulty'] = df['difficulty encoded'].map(number_to_level)\n",
        "  columns_to_keep = ['id', 'difficulty']\n",
        "  final_df =  df[columns_to_keep]\n",
        "  final_df.set_index('id', inplace=True)\n",
        "\n",
        "\n",
        "  return final_df\n"
      ],
      "metadata": {
        "id": "9IBOcZxJicB6"
      },
      "execution_count": null,
      "outputs": []
    },
    {
      "cell_type": "code",
      "source": [
        "final_test = prep_final_pred(test)"
      ],
      "metadata": {
        "id": "7l_t_RAIicdY"
      },
      "execution_count": null,
      "outputs": []
    },
    {
      "cell_type": "code",
      "source": [
        "final_test.to_csv('submission.csv')"
      ],
      "metadata": {
        "id": "psWaKVE-ieaA"
      },
      "execution_count": null,
      "outputs": []
    },
    {
      "cell_type": "code",
      "source": [
        "final_test.head()"
      ],
      "metadata": {
        "colab": {
          "base_uri": "https://localhost:8080/",
          "height": 235
        },
        "id": "YAjXYzi-arlL",
        "outputId": "b66e3e84-7eb5-4d5c-f4cd-6b2b78e43011"
      },
      "execution_count": null,
      "outputs": [
        {
          "output_type": "execute_result",
          "data": {
            "text/plain": [
              "   difficulty\n",
              "id           \n",
              "0          C2\n",
              "1          B1\n",
              "2          B1\n",
              "3          A2\n",
              "4          C2"
            ],
            "text/html": [
              "\n",
              "  <div id=\"df-6ed5028e-3641-4669-bf0d-fd1225e92d12\" class=\"colab-df-container\">\n",
              "    <div>\n",
              "<style scoped>\n",
              "    .dataframe tbody tr th:only-of-type {\n",
              "        vertical-align: middle;\n",
              "    }\n",
              "\n",
              "    .dataframe tbody tr th {\n",
              "        vertical-align: top;\n",
              "    }\n",
              "\n",
              "    .dataframe thead th {\n",
              "        text-align: right;\n",
              "    }\n",
              "</style>\n",
              "<table border=\"1\" class=\"dataframe\">\n",
              "  <thead>\n",
              "    <tr style=\"text-align: right;\">\n",
              "      <th></th>\n",
              "      <th>difficulty</th>\n",
              "    </tr>\n",
              "    <tr>\n",
              "      <th>id</th>\n",
              "      <th></th>\n",
              "    </tr>\n",
              "  </thead>\n",
              "  <tbody>\n",
              "    <tr>\n",
              "      <th>0</th>\n",
              "      <td>C2</td>\n",
              "    </tr>\n",
              "    <tr>\n",
              "      <th>1</th>\n",
              "      <td>B1</td>\n",
              "    </tr>\n",
              "    <tr>\n",
              "      <th>2</th>\n",
              "      <td>B1</td>\n",
              "    </tr>\n",
              "    <tr>\n",
              "      <th>3</th>\n",
              "      <td>A2</td>\n",
              "    </tr>\n",
              "    <tr>\n",
              "      <th>4</th>\n",
              "      <td>C2</td>\n",
              "    </tr>\n",
              "  </tbody>\n",
              "</table>\n",
              "</div>\n",
              "    <div class=\"colab-df-buttons\">\n",
              "\n",
              "  <div class=\"colab-df-container\">\n",
              "    <button class=\"colab-df-convert\" onclick=\"convertToInteractive('df-6ed5028e-3641-4669-bf0d-fd1225e92d12')\"\n",
              "            title=\"Convert this dataframe to an interactive table.\"\n",
              "            style=\"display:none;\">\n",
              "\n",
              "  <svg xmlns=\"http://www.w3.org/2000/svg\" height=\"24px\" viewBox=\"0 -960 960 960\">\n",
              "    <path d=\"M120-120v-720h720v720H120Zm60-500h600v-160H180v160Zm220 220h160v-160H400v160Zm0 220h160v-160H400v160ZM180-400h160v-160H180v160Zm440 0h160v-160H620v160ZM180-180h160v-160H180v160Zm440 0h160v-160H620v160Z\"/>\n",
              "  </svg>\n",
              "    </button>\n",
              "\n",
              "  <style>\n",
              "    .colab-df-container {\n",
              "      display:flex;\n",
              "      gap: 12px;\n",
              "    }\n",
              "\n",
              "    .colab-df-convert {\n",
              "      background-color: #E8F0FE;\n",
              "      border: none;\n",
              "      border-radius: 50%;\n",
              "      cursor: pointer;\n",
              "      display: none;\n",
              "      fill: #1967D2;\n",
              "      height: 32px;\n",
              "      padding: 0 0 0 0;\n",
              "      width: 32px;\n",
              "    }\n",
              "\n",
              "    .colab-df-convert:hover {\n",
              "      background-color: #E2EBFA;\n",
              "      box-shadow: 0px 1px 2px rgba(60, 64, 67, 0.3), 0px 1px 3px 1px rgba(60, 64, 67, 0.15);\n",
              "      fill: #174EA6;\n",
              "    }\n",
              "\n",
              "    .colab-df-buttons div {\n",
              "      margin-bottom: 4px;\n",
              "    }\n",
              "\n",
              "    [theme=dark] .colab-df-convert {\n",
              "      background-color: #3B4455;\n",
              "      fill: #D2E3FC;\n",
              "    }\n",
              "\n",
              "    [theme=dark] .colab-df-convert:hover {\n",
              "      background-color: #434B5C;\n",
              "      box-shadow: 0px 1px 3px 1px rgba(0, 0, 0, 0.15);\n",
              "      filter: drop-shadow(0px 1px 2px rgba(0, 0, 0, 0.3));\n",
              "      fill: #FFFFFF;\n",
              "    }\n",
              "  </style>\n",
              "\n",
              "    <script>\n",
              "      const buttonEl =\n",
              "        document.querySelector('#df-6ed5028e-3641-4669-bf0d-fd1225e92d12 button.colab-df-convert');\n",
              "      buttonEl.style.display =\n",
              "        google.colab.kernel.accessAllowed ? 'block' : 'none';\n",
              "\n",
              "      async function convertToInteractive(key) {\n",
              "        const element = document.querySelector('#df-6ed5028e-3641-4669-bf0d-fd1225e92d12');\n",
              "        const dataTable =\n",
              "          await google.colab.kernel.invokeFunction('convertToInteractive',\n",
              "                                                    [key], {});\n",
              "        if (!dataTable) return;\n",
              "\n",
              "        const docLinkHtml = 'Like what you see? Visit the ' +\n",
              "          '<a target=\"_blank\" href=https://colab.research.google.com/notebooks/data_table.ipynb>data table notebook</a>'\n",
              "          + ' to learn more about interactive tables.';\n",
              "        element.innerHTML = '';\n",
              "        dataTable['output_type'] = 'display_data';\n",
              "        await google.colab.output.renderOutput(dataTable, element);\n",
              "        const docLink = document.createElement('div');\n",
              "        docLink.innerHTML = docLinkHtml;\n",
              "        element.appendChild(docLink);\n",
              "      }\n",
              "    </script>\n",
              "  </div>\n",
              "\n",
              "\n",
              "<div id=\"df-fcfff7de-2ad3-480f-943b-0b9556617f69\">\n",
              "  <button class=\"colab-df-quickchart\" onclick=\"quickchart('df-fcfff7de-2ad3-480f-943b-0b9556617f69')\"\n",
              "            title=\"Suggest charts\"\n",
              "            style=\"display:none;\">\n",
              "\n",
              "<svg xmlns=\"http://www.w3.org/2000/svg\" height=\"24px\"viewBox=\"0 0 24 24\"\n",
              "     width=\"24px\">\n",
              "    <g>\n",
              "        <path d=\"M19 3H5c-1.1 0-2 .9-2 2v14c0 1.1.9 2 2 2h14c1.1 0 2-.9 2-2V5c0-1.1-.9-2-2-2zM9 17H7v-7h2v7zm4 0h-2V7h2v10zm4 0h-2v-4h2v4z\"/>\n",
              "    </g>\n",
              "</svg>\n",
              "  </button>\n",
              "\n",
              "<style>\n",
              "  .colab-df-quickchart {\n",
              "      --bg-color: #E8F0FE;\n",
              "      --fill-color: #1967D2;\n",
              "      --hover-bg-color: #E2EBFA;\n",
              "      --hover-fill-color: #174EA6;\n",
              "      --disabled-fill-color: #AAA;\n",
              "      --disabled-bg-color: #DDD;\n",
              "  }\n",
              "\n",
              "  [theme=dark] .colab-df-quickchart {\n",
              "      --bg-color: #3B4455;\n",
              "      --fill-color: #D2E3FC;\n",
              "      --hover-bg-color: #434B5C;\n",
              "      --hover-fill-color: #FFFFFF;\n",
              "      --disabled-bg-color: #3B4455;\n",
              "      --disabled-fill-color: #666;\n",
              "  }\n",
              "\n",
              "  .colab-df-quickchart {\n",
              "    background-color: var(--bg-color);\n",
              "    border: none;\n",
              "    border-radius: 50%;\n",
              "    cursor: pointer;\n",
              "    display: none;\n",
              "    fill: var(--fill-color);\n",
              "    height: 32px;\n",
              "    padding: 0;\n",
              "    width: 32px;\n",
              "  }\n",
              "\n",
              "  .colab-df-quickchart:hover {\n",
              "    background-color: var(--hover-bg-color);\n",
              "    box-shadow: 0 1px 2px rgba(60, 64, 67, 0.3), 0 1px 3px 1px rgba(60, 64, 67, 0.15);\n",
              "    fill: var(--button-hover-fill-color);\n",
              "  }\n",
              "\n",
              "  .colab-df-quickchart-complete:disabled,\n",
              "  .colab-df-quickchart-complete:disabled:hover {\n",
              "    background-color: var(--disabled-bg-color);\n",
              "    fill: var(--disabled-fill-color);\n",
              "    box-shadow: none;\n",
              "  }\n",
              "\n",
              "  .colab-df-spinner {\n",
              "    border: 2px solid var(--fill-color);\n",
              "    border-color: transparent;\n",
              "    border-bottom-color: var(--fill-color);\n",
              "    animation:\n",
              "      spin 1s steps(1) infinite;\n",
              "  }\n",
              "\n",
              "  @keyframes spin {\n",
              "    0% {\n",
              "      border-color: transparent;\n",
              "      border-bottom-color: var(--fill-color);\n",
              "      border-left-color: var(--fill-color);\n",
              "    }\n",
              "    20% {\n",
              "      border-color: transparent;\n",
              "      border-left-color: var(--fill-color);\n",
              "      border-top-color: var(--fill-color);\n",
              "    }\n",
              "    30% {\n",
              "      border-color: transparent;\n",
              "      border-left-color: var(--fill-color);\n",
              "      border-top-color: var(--fill-color);\n",
              "      border-right-color: var(--fill-color);\n",
              "    }\n",
              "    40% {\n",
              "      border-color: transparent;\n",
              "      border-right-color: var(--fill-color);\n",
              "      border-top-color: var(--fill-color);\n",
              "    }\n",
              "    60% {\n",
              "      border-color: transparent;\n",
              "      border-right-color: var(--fill-color);\n",
              "    }\n",
              "    80% {\n",
              "      border-color: transparent;\n",
              "      border-right-color: var(--fill-color);\n",
              "      border-bottom-color: var(--fill-color);\n",
              "    }\n",
              "    90% {\n",
              "      border-color: transparent;\n",
              "      border-bottom-color: var(--fill-color);\n",
              "    }\n",
              "  }\n",
              "</style>\n",
              "\n",
              "  <script>\n",
              "    async function quickchart(key) {\n",
              "      const quickchartButtonEl =\n",
              "        document.querySelector('#' + key + ' button');\n",
              "      quickchartButtonEl.disabled = true;  // To prevent multiple clicks.\n",
              "      quickchartButtonEl.classList.add('colab-df-spinner');\n",
              "      try {\n",
              "        const charts = await google.colab.kernel.invokeFunction(\n",
              "            'suggestCharts', [key], {});\n",
              "      } catch (error) {\n",
              "        console.error('Error during call to suggestCharts:', error);\n",
              "      }\n",
              "      quickchartButtonEl.classList.remove('colab-df-spinner');\n",
              "      quickchartButtonEl.classList.add('colab-df-quickchart-complete');\n",
              "    }\n",
              "    (() => {\n",
              "      let quickchartButtonEl =\n",
              "        document.querySelector('#df-fcfff7de-2ad3-480f-943b-0b9556617f69 button');\n",
              "      quickchartButtonEl.style.display =\n",
              "        google.colab.kernel.accessAllowed ? 'block' : 'none';\n",
              "    })();\n",
              "  </script>\n",
              "</div>\n",
              "    </div>\n",
              "  </div>\n"
            ]
          },
          "metadata": {},
          "execution_count": 156
        }
      ]
    },
    {
      "cell_type": "code",
      "source": [
        "! pip install kaggle"
      ],
      "metadata": {
        "id": "_gXaNNpIietw",
        "colab": {
          "base_uri": "https://localhost:8080/"
        },
        "outputId": "d8e05e77-b502-4b27-d59b-7ec51292871f"
      },
      "execution_count": null,
      "outputs": [
        {
          "output_type": "stream",
          "name": "stdout",
          "text": [
            "Requirement already satisfied: kaggle in /usr/local/lib/python3.10/dist-packages (1.5.16)\n",
            "Requirement already satisfied: six>=1.10 in /usr/local/lib/python3.10/dist-packages (from kaggle) (1.16.0)\n",
            "Requirement already satisfied: certifi in /usr/local/lib/python3.10/dist-packages (from kaggle) (2023.11.17)\n",
            "Requirement already satisfied: python-dateutil in /usr/local/lib/python3.10/dist-packages (from kaggle) (2.8.2)\n",
            "Requirement already satisfied: requests in /usr/local/lib/python3.10/dist-packages (from kaggle) (2.31.0)\n",
            "Requirement already satisfied: tqdm in /usr/local/lib/python3.10/dist-packages (from kaggle) (4.66.1)\n",
            "Requirement already satisfied: python-slugify in /usr/local/lib/python3.10/dist-packages (from kaggle) (8.0.1)\n",
            "Requirement already satisfied: urllib3 in /usr/local/lib/python3.10/dist-packages (from kaggle) (2.0.7)\n",
            "Requirement already satisfied: bleach in /usr/local/lib/python3.10/dist-packages (from kaggle) (6.1.0)\n",
            "Requirement already satisfied: webencodings in /usr/local/lib/python3.10/dist-packages (from bleach->kaggle) (0.5.1)\n",
            "Requirement already satisfied: text-unidecode>=1.3 in /usr/local/lib/python3.10/dist-packages (from python-slugify->kaggle) (1.3)\n",
            "Requirement already satisfied: charset-normalizer<4,>=2 in /usr/local/lib/python3.10/dist-packages (from requests->kaggle) (3.3.2)\n",
            "Requirement already satisfied: idna<4,>=2.5 in /usr/local/lib/python3.10/dist-packages (from requests->kaggle) (3.6)\n"
          ]
        }
      ]
    },
    {
      "cell_type": "code",
      "source": [
        "from google.colab import drive\n",
        "drive.mount('/content/drive', force_remount=True)\n"
      ],
      "metadata": {
        "id": "317vBCUTifwg",
        "colab": {
          "base_uri": "https://localhost:8080/"
        },
        "outputId": "eefb0983-1545-409b-a140-487bb40b8363"
      },
      "execution_count": null,
      "outputs": [
        {
          "output_type": "stream",
          "name": "stdout",
          "text": [
            "Mounted at /content/drive\n"
          ]
        }
      ]
    },
    {
      "cell_type": "code",
      "source": [
        "!mkdir ~/.kaggle"
      ],
      "metadata": {
        "id": "-Zxu6qttiiJu",
        "colab": {
          "base_uri": "https://localhost:8080/"
        },
        "outputId": "5b3e5800-6476-42a7-a756-b5e50d9f731c"
      },
      "execution_count": null,
      "outputs": [
        {
          "output_type": "stream",
          "name": "stdout",
          "text": [
            "mkdir: cannot create directory ‘/root/.kaggle’: File exists\n"
          ]
        }
      ]
    },
    {
      "cell_type": "code",
      "source": [
        "!cp /content/drive/MyDrive/Kaggle/kaggle.json ~/.kaggle/kaggle.json"
      ],
      "metadata": {
        "id": "U9wkctjIijTA"
      },
      "execution_count": null,
      "outputs": []
    },
    {
      "cell_type": "code",
      "source": [
        "! kaggle competitions submit -c detecting-french-texts-difficulty-level-2023 -f submission.csv -m \"Sample submission\"\n"
      ],
      "metadata": {
        "id": "ljk17xz0ikXR",
        "colab": {
          "base_uri": "https://localhost:8080/"
        },
        "outputId": "9640dfb1-b21d-4fa9-b1cb-0f1110c3d71a"
      },
      "execution_count": null,
      "outputs": [
        {
          "output_type": "stream",
          "name": "stdout",
          "text": [
            "100% 8.30k/8.30k [00:00<00:00, 32.4kB/s]\n",
            "Successfully submitted to Detecting the difficulty level of French texts"
          ]
        }
      ]
    }
  ]
}