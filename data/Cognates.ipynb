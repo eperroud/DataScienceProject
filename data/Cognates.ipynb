{
  "nbformat": 4,
  "nbformat_minor": 0,
  "metadata": {
    "colab": {
      "provenance": []
    },
    "kernelspec": {
      "name": "python3",
      "display_name": "Python 3"
    },
    "language_info": {
      "name": "python"
    }
  },
  "cells": [
    {
      "cell_type": "code",
      "source": [
        "import pandas as pd\n",
        "!pip install requests pdfplumber\n",
        "\n",
        "import requests\n",
        "import io\n",
        "import pdfplumber\n",
        "import difflib"
      ],
      "metadata": {
        "id": "FwilEr1pj7BP",
        "colab": {
          "base_uri": "https://localhost:8080/"
        },
        "outputId": "dd8a47ad-45a2-4499-c013-60d3590fd45b"
      },
      "execution_count": 1,
      "outputs": [
        {
          "output_type": "stream",
          "name": "stdout",
          "text": [
            "Requirement already satisfied: requests in /usr/local/lib/python3.10/dist-packages (2.31.0)\n",
            "Collecting pdfplumber\n",
            "  Downloading pdfplumber-0.10.3-py3-none-any.whl (48 kB)\n",
            "\u001b[2K     \u001b[90m━━━━━━━━━━━━━━━━━━━━━━━━━━━━━━━━━━━━━━━━\u001b[0m \u001b[32m49.0/49.0 kB\u001b[0m \u001b[31m800.9 kB/s\u001b[0m eta \u001b[36m0:00:00\u001b[0m\n",
            "\u001b[?25hRequirement already satisfied: charset-normalizer<4,>=2 in /usr/local/lib/python3.10/dist-packages (from requests) (3.3.2)\n",
            "Requirement already satisfied: idna<4,>=2.5 in /usr/local/lib/python3.10/dist-packages (from requests) (3.6)\n",
            "Requirement already satisfied: urllib3<3,>=1.21.1 in /usr/local/lib/python3.10/dist-packages (from requests) (2.0.7)\n",
            "Requirement already satisfied: certifi>=2017.4.17 in /usr/local/lib/python3.10/dist-packages (from requests) (2023.11.17)\n",
            "Collecting pdfminer.six==20221105 (from pdfplumber)\n",
            "  Downloading pdfminer.six-20221105-py3-none-any.whl (5.6 MB)\n",
            "\u001b[2K     \u001b[90m━━━━━━━━━━━━━━━━━━━━━━━━━━━━━━━━━━━━━━━━\u001b[0m \u001b[32m5.6/5.6 MB\u001b[0m \u001b[31m37.8 MB/s\u001b[0m eta \u001b[36m0:00:00\u001b[0m\n",
            "\u001b[?25hRequirement already satisfied: Pillow>=9.1 in /usr/local/lib/python3.10/dist-packages (from pdfplumber) (9.4.0)\n",
            "Collecting pypdfium2>=4.18.0 (from pdfplumber)\n",
            "  Downloading pypdfium2-4.25.0-py3-none-manylinux_2_17_x86_64.whl (3.0 MB)\n",
            "\u001b[2K     \u001b[90m━━━━━━━━━━━━━━━━━━━━━━━━━━━━━━━━━━━━━━━━\u001b[0m \u001b[32m3.0/3.0 MB\u001b[0m \u001b[31m39.8 MB/s\u001b[0m eta \u001b[36m0:00:00\u001b[0m\n",
            "\u001b[?25hRequirement already satisfied: cryptography>=36.0.0 in /usr/local/lib/python3.10/dist-packages (from pdfminer.six==20221105->pdfplumber) (41.0.7)\n",
            "Requirement already satisfied: cffi>=1.12 in /usr/local/lib/python3.10/dist-packages (from cryptography>=36.0.0->pdfminer.six==20221105->pdfplumber) (1.16.0)\n",
            "Requirement already satisfied: pycparser in /usr/local/lib/python3.10/dist-packages (from cffi>=1.12->cryptography>=36.0.0->pdfminer.six==20221105->pdfplumber) (2.21)\n",
            "Installing collected packages: pypdfium2, pdfminer.six, pdfplumber\n",
            "Successfully installed pdfminer.six-20221105 pdfplumber-0.10.3 pypdfium2-4.25.0\n"
          ]
        }
      ]
    },
    {
      "cell_type": "code",
      "source": [
        "def find_first_french_word(df):\n",
        "    previous_word = 'a'\n",
        "    for index, row in df.iterrows():\n",
        "        if row[0][0] == 'a' and previous_word[0] == 'v':\n",
        "            return index\n",
        "        else:\n",
        "            previous_word = row[0]\n",
        "\n"
      ],
      "metadata": {
        "id": "Zf6lhJkhp2kS"
      },
      "execution_count": 2,
      "outputs": []
    },
    {
      "cell_type": "code",
      "source": [
        "pdf_url = 'https://docs.steinhardt.nyu.edu/pdfs/metrocenter/xr1/glossaries/ELA/GlossaryCognatesFrenchUpdated5-5-2014.pdf'\n",
        "response = requests.get(pdf_url)\n",
        "response.raise_for_status()\n",
        "\n",
        "cognates = []\n",
        "\n",
        "with io.BytesIO(response.content) as open_pdf_file:\n",
        "    with pdfplumber.open(open_pdf_file) as pdf:\n",
        "        for page in pdf.pages:\n",
        "            text = page.extract_text()\n",
        "            for line in text.split('\\n'):\n",
        "                parts = list(filter(None, line.split(' ')))\n",
        "                if len(parts) == 4:\n",
        "                    cognates.append((parts[1], parts[3]))\n",
        "\n",
        "cognates = pd.DataFrame(cognates, columns = ['1', '2'])\n",
        "cognates = cognates[cognates.apply(lambda x: x[0][0].lower() == x[1][0].lower(), axis=1)]\n",
        "first_french = find_first_french_word(cognates)\n",
        "french_cognates = cognates['1'][first_french-14:].tolist()\n"
      ],
      "metadata": {
        "id": "xtxaUM7SgQ8C"
      },
      "execution_count": 3,
      "outputs": []
    },
    {
      "cell_type": "code",
      "source": [
        "# Function to count how many words in 'word_list' are in 'cognates_set'\n",
        "import ast\n",
        "def count_cognates(word_list, french_cognates):\n",
        "    actual_list = ast.literal_eval(word_list)\n",
        "    i = 0\n",
        "    for w in actual_list:\n",
        "      for f in french_cognates:\n",
        "        if w == f:\n",
        "          i+=1\n",
        "    return i"
      ],
      "metadata": {
        "id": "rpM4vB9jhs1D"
      },
      "execution_count": 4,
      "outputs": []
    },
    {
      "cell_type": "code",
      "source": [
        "test = pd.read_csv('https://github.com/eperroud/DataScienceProject/raw/08daf0738e55dfca4b0d7046e710c65085edd4e9/data/new_test.csv')\n",
        "training = pd.read_csv('https://github.com/eperroud/DataScienceProject/raw/08daf0738e55dfca4b0d7046e710c65085edd4e9/data/new_training.csv')"
      ],
      "metadata": {
        "id": "gScOfQPciM57"
      },
      "execution_count": 5,
      "outputs": []
    },
    {
      "cell_type": "code",
      "source": [
        "training['cognate_count'] = training['tokens'].apply(lambda x: count_cognates(x, french_cognates))\n",
        "test['cognate_count'] = test['tokens'].apply(lambda x: count_cognates(x, french_cognates))"
      ],
      "metadata": {
        "id": "e9SsdWWRkWla"
      },
      "execution_count": 6,
      "outputs": []
    },
    {
      "cell_type": "code",
      "source": [
        "def find_cognates(word_list, french_cognates, similarity_threshold=0.90):\n",
        "    actual_list = ast.literal_eval(word_list)\n",
        "    i = 0\n",
        "    for french_word in french_cognates:\n",
        "        for words in actual_list:\n",
        "            similarity = difflib.SequenceMatcher(None, french_word, words).ratio()\n",
        "            if similarity > similarity_threshold:\n",
        "                i+=1\n",
        "    return i\n"
      ],
      "metadata": {
        "id": "8mLE17r81bsy"
      },
      "execution_count": 7,
      "outputs": []
    },
    {
      "cell_type": "code",
      "source": [
        "training['cognate_count'] = training['tokens'].apply(lambda x: find_cognates(x, french_cognates))\n"
      ],
      "metadata": {
        "id": "2goRoYyM111Z"
      },
      "execution_count": 8,
      "outputs": []
    },
    {
      "cell_type": "code",
      "source": [
        "test['cognate_count'] = test['tokens'].apply(lambda x: find_cognates(x, french_cognates))\n"
      ],
      "metadata": {
        "id": "cILucm9_4Xbf"
      },
      "execution_count": 9,
      "outputs": []
    },
    {
      "cell_type": "code",
      "source": [
        "from google.colab import files\n",
        "training.to_csv('final_training.csv', index=False)\n",
        "test.to_csv('final_test.csv', index=False)\n",
        "files.download('final_training.csv')\n",
        "files.download('final_test.csv' )"
      ],
      "metadata": {
        "colab": {
          "base_uri": "https://localhost:8080/",
          "height": 34
        },
        "id": "SJmdoelJ5tZ7",
        "outputId": "294713e1-7cad-49b4-b41a-a012e7f9218a"
      },
      "execution_count": null,
      "outputs": [
        {
          "output_type": "display_data",
          "data": {
            "text/plain": [
              "<IPython.core.display.Javascript object>"
            ],
            "application/javascript": [
              "\n",
              "    async function download(id, filename, size) {\n",
              "      if (!google.colab.kernel.accessAllowed) {\n",
              "        return;\n",
              "      }\n",
              "      const div = document.createElement('div');\n",
              "      const label = document.createElement('label');\n",
              "      label.textContent = `Downloading \"${filename}\": `;\n",
              "      div.appendChild(label);\n",
              "      const progress = document.createElement('progress');\n",
              "      progress.max = size;\n",
              "      div.appendChild(progress);\n",
              "      document.body.appendChild(div);\n",
              "\n",
              "      const buffers = [];\n",
              "      let downloaded = 0;\n",
              "\n",
              "      const channel = await google.colab.kernel.comms.open(id);\n",
              "      // Send a message to notify the kernel that we're ready.\n",
              "      channel.send({})\n",
              "\n",
              "      for await (const message of channel.messages) {\n",
              "        // Send a message to notify the kernel that we're ready.\n",
              "        channel.send({})\n",
              "        if (message.buffers) {\n",
              "          for (const buffer of message.buffers) {\n",
              "            buffers.push(buffer);\n",
              "            downloaded += buffer.byteLength;\n",
              "            progress.value = downloaded;\n",
              "          }\n",
              "        }\n",
              "      }\n",
              "      const blob = new Blob(buffers, {type: 'application/binary'});\n",
              "      const a = document.createElement('a');\n",
              "      a.href = window.URL.createObjectURL(blob);\n",
              "      a.download = filename;\n",
              "      div.appendChild(a);\n",
              "      a.click();\n",
              "      div.remove();\n",
              "    }\n",
              "  "
            ]
          },
          "metadata": {}
        },
        {
          "output_type": "display_data",
          "data": {
            "text/plain": [
              "<IPython.core.display.Javascript object>"
            ],
            "application/javascript": [
              "download(\"download_db9fa624-9756-4468-bdd2-c9c7775a71d8\", \"final_training.csv\", 3652511)"
            ]
          },
          "metadata": {}
        }
      ]
    }
  ]
}